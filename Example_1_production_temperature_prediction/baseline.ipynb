{
 "cells": [
  {
   "cell_type": "markdown",
   "metadata": {},
   "source": [
    "# 锂电池生产温度测量"
   ]
  },
  {
   "cell_type": "markdown",
   "metadata": {},
   "source": [
    "## 导入所需要的库"
   ]
  },
  {
   "cell_type": "code",
   "execution_count": 1,
   "metadata": {},
   "outputs": [],
   "source": [
    "import pandas as pd # 用于处理数据的工具\n",
    "import lightgbm as lgb # 机器学习模型 LightGBM\n",
    "from sklearn.metrics import mean_absolute_error # 评分 MAE 的计算函数\n",
    "from sklearn.model_selection import train_test_split # 拆分训练集与验证集工具\n",
    "from tqdm import tqdm # 显示循环的进度条工具\n",
    "import warnings\n",
    "warnings.filterwarnings(\"ignore\")"
   ]
  },
  {
   "cell_type": "markdown",
   "metadata": {},
   "source": [
    "## 数据准备"
   ]
  },
  {
   "cell_type": "code",
   "execution_count": 2,
   "metadata": {},
   "outputs": [],
   "source": [
    "train_dataset = pd.read_csv(\"./data/train.csv\") # 原始训练数据。\n",
    "test_dataset = pd.read_csv(\"./data/test.csv\") # 原始测试数据（用于提交）。\n",
    "\n",
    "submit = pd.DataFrame() # 定义提交的最终数据。\n",
    "submit[\"序号\"] = test_dataset[\"序号\"] # 对齐测试数据的序号。\n",
    "\n",
    "MAE_scores = dict() # 定义评分项。"
   ]
  },
  {
   "cell_type": "markdown",
   "metadata": {},
   "source": [
    "## 观察数据"
   ]
  },
  {
   "cell_type": "code",
   "execution_count": 3,
   "metadata": {},
   "outputs": [
    {
     "data": {
      "text/html": [
       "<div>\n",
       "<style scoped>\n",
       "    .dataframe tbody tr th:only-of-type {\n",
       "        vertical-align: middle;\n",
       "    }\n",
       "\n",
       "    .dataframe tbody tr th {\n",
       "        vertical-align: top;\n",
       "    }\n",
       "\n",
       "    .dataframe thead th {\n",
       "        text-align: right;\n",
       "    }\n",
       "</style>\n",
       "<table border=\"1\" class=\"dataframe\">\n",
       "  <thead>\n",
       "    <tr style=\"text-align: right;\">\n",
       "      <th></th>\n",
       "      <th>序号</th>\n",
       "      <th>时间</th>\n",
       "      <th>流量1</th>\n",
       "      <th>流量2</th>\n",
       "      <th>流量3</th>\n",
       "      <th>流量4</th>\n",
       "      <th>流量5</th>\n",
       "      <th>流量6</th>\n",
       "      <th>流量7</th>\n",
       "      <th>流量8</th>\n",
       "      <th>...</th>\n",
       "      <th>下部温度8</th>\n",
       "      <th>下部温度9</th>\n",
       "      <th>下部温度10</th>\n",
       "      <th>下部温度11</th>\n",
       "      <th>下部温度12</th>\n",
       "      <th>下部温度13</th>\n",
       "      <th>下部温度14</th>\n",
       "      <th>下部温度15</th>\n",
       "      <th>下部温度16</th>\n",
       "      <th>下部温度17</th>\n",
       "    </tr>\n",
       "  </thead>\n",
       "  <tbody>\n",
       "    <tr>\n",
       "      <th>0</th>\n",
       "      <td>1</td>\n",
       "      <td>2022/11/6 9:08</td>\n",
       "      <td>35.668999</td>\n",
       "      <td>36.146000</td>\n",
       "      <td>25.558001</td>\n",
       "      <td>26.195000</td>\n",
       "      <td>25.670000</td>\n",
       "      <td>15.702</td>\n",
       "      <td>16.690001</td>\n",
       "      <td>15.991</td>\n",
       "      <td>...</td>\n",
       "      <td>827</td>\n",
       "      <td>827</td>\n",
       "      <td>827</td>\n",
       "      <td>827</td>\n",
       "      <td>827</td>\n",
       "      <td>827</td>\n",
       "      <td>827</td>\n",
       "      <td>827</td>\n",
       "      <td>827</td>\n",
       "      <td>750</td>\n",
       "    </tr>\n",
       "    <tr>\n",
       "      <th>1</th>\n",
       "      <td>2</td>\n",
       "      <td>2022/11/6 9:09</td>\n",
       "      <td>35.995998</td>\n",
       "      <td>36.347000</td>\n",
       "      <td>25.382000</td>\n",
       "      <td>26.348000</td>\n",
       "      <td>26.131001</td>\n",
       "      <td>15.523</td>\n",
       "      <td>16.825001</td>\n",
       "      <td>15.871</td>\n",
       "      <td>...</td>\n",
       "      <td>827</td>\n",
       "      <td>827</td>\n",
       "      <td>827</td>\n",
       "      <td>827</td>\n",
       "      <td>827</td>\n",
       "      <td>827</td>\n",
       "      <td>827</td>\n",
       "      <td>827</td>\n",
       "      <td>827</td>\n",
       "      <td>750</td>\n",
       "    </tr>\n",
       "    <tr>\n",
       "      <th>2</th>\n",
       "      <td>3</td>\n",
       "      <td>2022/11/6 9:11</td>\n",
       "      <td>35.340000</td>\n",
       "      <td>36.311001</td>\n",
       "      <td>25.469999</td>\n",
       "      <td>26.093000</td>\n",
       "      <td>25.639000</td>\n",
       "      <td>15.564</td>\n",
       "      <td>15.564000</td>\n",
       "      <td>15.947</td>\n",
       "      <td>...</td>\n",
       "      <td>827</td>\n",
       "      <td>827</td>\n",
       "      <td>827</td>\n",
       "      <td>827</td>\n",
       "      <td>827</td>\n",
       "      <td>827</td>\n",
       "      <td>827</td>\n",
       "      <td>827</td>\n",
       "      <td>827</td>\n",
       "      <td>750</td>\n",
       "    </tr>\n",
       "    <tr>\n",
       "      <th>3</th>\n",
       "      <td>4</td>\n",
       "      <td>2022/11/6 9:12</td>\n",
       "      <td>35.585999</td>\n",
       "      <td>36.091000</td>\n",
       "      <td>25.250000</td>\n",
       "      <td>26.127001</td>\n",
       "      <td>25.670000</td>\n",
       "      <td>15.575</td>\n",
       "      <td>16.775999</td>\n",
       "      <td>15.936</td>\n",
       "      <td>...</td>\n",
       "      <td>827</td>\n",
       "      <td>827</td>\n",
       "      <td>827</td>\n",
       "      <td>827</td>\n",
       "      <td>827</td>\n",
       "      <td>827</td>\n",
       "      <td>827</td>\n",
       "      <td>827</td>\n",
       "      <td>827</td>\n",
       "      <td>750</td>\n",
       "    </tr>\n",
       "    <tr>\n",
       "      <th>4</th>\n",
       "      <td>5</td>\n",
       "      <td>2022/11/6 9:13</td>\n",
       "      <td>35.946999</td>\n",
       "      <td>36.256001</td>\n",
       "      <td>25.163000</td>\n",
       "      <td>26.399000</td>\n",
       "      <td>25.837999</td>\n",
       "      <td>15.460</td>\n",
       "      <td>16.580999</td>\n",
       "      <td>15.795</td>\n",
       "      <td>...</td>\n",
       "      <td>827</td>\n",
       "      <td>827</td>\n",
       "      <td>827</td>\n",
       "      <td>827</td>\n",
       "      <td>827</td>\n",
       "      <td>827</td>\n",
       "      <td>827</td>\n",
       "      <td>827</td>\n",
       "      <td>827</td>\n",
       "      <td>750</td>\n",
       "    </tr>\n",
       "  </tbody>\n",
       "</table>\n",
       "<p>5 rows × 87 columns</p>\n",
       "</div>"
      ],
      "text/plain": [
       "   序号              时间        流量1        流量2        流量3        流量4        流量5  \\\n",
       "0   1  2022/11/6 9:08  35.668999  36.146000  25.558001  26.195000  25.670000   \n",
       "1   2  2022/11/6 9:09  35.995998  36.347000  25.382000  26.348000  26.131001   \n",
       "2   3  2022/11/6 9:11  35.340000  36.311001  25.469999  26.093000  25.639000   \n",
       "3   4  2022/11/6 9:12  35.585999  36.091000  25.250000  26.127001  25.670000   \n",
       "4   5  2022/11/6 9:13  35.946999  36.256001  25.163000  26.399000  25.837999   \n",
       "\n",
       "      流量6        流量7     流量8  ...  下部温度8  下部温度9  下部温度10  下部温度11  下部温度12  \\\n",
       "0  15.702  16.690001  15.991  ...    827    827     827     827     827   \n",
       "1  15.523  16.825001  15.871  ...    827    827     827     827     827   \n",
       "2  15.564  15.564000  15.947  ...    827    827     827     827     827   \n",
       "3  15.575  16.775999  15.936  ...    827    827     827     827     827   \n",
       "4  15.460  16.580999  15.795  ...    827    827     827     827     827   \n",
       "\n",
       "   下部温度13  下部温度14  下部温度15  下部温度16  下部温度17  \n",
       "0     827     827     827     827     750  \n",
       "1     827     827     827     827     750  \n",
       "2     827     827     827     827     750  \n",
       "3     827     827     827     827     750  \n",
       "4     827     827     827     827     750  \n",
       "\n",
       "[5 rows x 87 columns]"
      ]
     },
     "execution_count": 3,
     "metadata": {},
     "output_type": "execute_result"
    }
   ],
   "source": [
    "train_dataset.head()"
   ]
  },
  {
   "cell_type": "code",
   "execution_count": 4,
   "metadata": {},
   "outputs": [
    {
     "data": {
      "text/plain": [
       "Index(['序号', '时间', '流量1', '流量2', '流量3', '流量4', '流量5', '流量6', '流量7', '流量8',\n",
       "       '流量9', '流量10', '流量11', '流量12', '流量13', '流量14', '流量15', '流量16', '流量17',\n",
       "       '上部温度设定1', '上部温度设定2', '上部温度设定3', '上部温度设定4', '上部温度设定5', '上部温度设定6',\n",
       "       '上部温度设定7', '上部温度设定8', '上部温度设定9', '上部温度设定10', '上部温度设定11', '上部温度设定12',\n",
       "       '上部温度设定13', '上部温度设定14', '上部温度设定15', '上部温度设定16', '上部温度设定17', '下部温度设定1',\n",
       "       '下部温度设定2', '下部温度设定3', '下部温度设定4', '下部温度设定5', '下部温度设定6', '下部温度设定7',\n",
       "       '下部温度设定8', '下部温度设定9', '下部温度设定10', '下部温度设定11', '下部温度设定12', '下部温度设定13',\n",
       "       '下部温度设定14', '下部温度设定15', '下部温度设定16', '下部温度设定17', '上部温度1', '上部温度2',\n",
       "       '上部温度3', '上部温度4', '上部温度5', '上部温度6', '上部温度7', '上部温度8', '上部温度9', '上部温度10',\n",
       "       '上部温度11', '上部温度12', '上部温度13', '上部温度14', '上部温度15', '上部温度16', '上部温度17',\n",
       "       '下部温度1', '下部温度2', '下部温度3', '下部温度4', '下部温度5', '下部温度6', '下部温度7', '下部温度8',\n",
       "       '下部温度9', '下部温度10', '下部温度11', '下部温度12', '下部温度13', '下部温度14', '下部温度15',\n",
       "       '下部温度16', '下部温度17'],\n",
       "      dtype='object')"
      ]
     },
     "execution_count": 4,
     "metadata": {},
     "output_type": "execute_result"
    }
   ],
   "source": [
    "train_dataset.columns"
   ]
  },
  {
   "cell_type": "code",
   "execution_count": 5,
   "metadata": {},
   "outputs": [
    {
     "data": {
      "text/html": [
       "<div>\n",
       "<style scoped>\n",
       "    .dataframe tbody tr th:only-of-type {\n",
       "        vertical-align: middle;\n",
       "    }\n",
       "\n",
       "    .dataframe tbody tr th {\n",
       "        vertical-align: top;\n",
       "    }\n",
       "\n",
       "    .dataframe thead th {\n",
       "        text-align: right;\n",
       "    }\n",
       "</style>\n",
       "<table border=\"1\" class=\"dataframe\">\n",
       "  <thead>\n",
       "    <tr style=\"text-align: right;\">\n",
       "      <th></th>\n",
       "      <th>序号</th>\n",
       "      <th>时间</th>\n",
       "      <th>流量1</th>\n",
       "      <th>流量2</th>\n",
       "      <th>流量3</th>\n",
       "      <th>流量4</th>\n",
       "      <th>流量5</th>\n",
       "      <th>流量6</th>\n",
       "      <th>流量7</th>\n",
       "      <th>流量8</th>\n",
       "      <th>...</th>\n",
       "      <th>下部温度设定8</th>\n",
       "      <th>下部温度设定9</th>\n",
       "      <th>下部温度设定10</th>\n",
       "      <th>下部温度设定11</th>\n",
       "      <th>下部温度设定12</th>\n",
       "      <th>下部温度设定13</th>\n",
       "      <th>下部温度设定14</th>\n",
       "      <th>下部温度设定15</th>\n",
       "      <th>下部温度设定16</th>\n",
       "      <th>下部温度设定17</th>\n",
       "    </tr>\n",
       "  </thead>\n",
       "  <tbody>\n",
       "    <tr>\n",
       "      <th>0</th>\n",
       "      <td>1</td>\n",
       "      <td>2023/3/1 4:15</td>\n",
       "      <td>24.222000</td>\n",
       "      <td>24.070000</td>\n",
       "      <td>28.889000</td>\n",
       "      <td>25.264999</td>\n",
       "      <td>26.827999</td>\n",
       "      <td>4.354</td>\n",
       "      <td>21.784</td>\n",
       "      <td>24.323000</td>\n",
       "      <td>...</td>\n",
       "      <td>837</td>\n",
       "      <td>837</td>\n",
       "      <td>837</td>\n",
       "      <td>837</td>\n",
       "      <td>837</td>\n",
       "      <td>837</td>\n",
       "      <td>837</td>\n",
       "      <td>837</td>\n",
       "      <td>837</td>\n",
       "      <td>750</td>\n",
       "    </tr>\n",
       "    <tr>\n",
       "      <th>1</th>\n",
       "      <td>2</td>\n",
       "      <td>2023/3/1 4:20</td>\n",
       "      <td>24.138000</td>\n",
       "      <td>23.974001</td>\n",
       "      <td>28.798000</td>\n",
       "      <td>25.517000</td>\n",
       "      <td>27.108999</td>\n",
       "      <td>4.377</td>\n",
       "      <td>21.886</td>\n",
       "      <td>24.384001</td>\n",
       "      <td>...</td>\n",
       "      <td>837</td>\n",
       "      <td>837</td>\n",
       "      <td>837</td>\n",
       "      <td>837</td>\n",
       "      <td>837</td>\n",
       "      <td>837</td>\n",
       "      <td>837</td>\n",
       "      <td>837</td>\n",
       "      <td>837</td>\n",
       "      <td>750</td>\n",
       "    </tr>\n",
       "    <tr>\n",
       "      <th>2</th>\n",
       "      <td>3</td>\n",
       "      <td>2023/3/1 4:26</td>\n",
       "      <td>24.152000</td>\n",
       "      <td>24.006001</td>\n",
       "      <td>28.827999</td>\n",
       "      <td>25.114000</td>\n",
       "      <td>26.719999</td>\n",
       "      <td>4.293</td>\n",
       "      <td>21.611</td>\n",
       "      <td>24.099001</td>\n",
       "      <td>...</td>\n",
       "      <td>837</td>\n",
       "      <td>837</td>\n",
       "      <td>837</td>\n",
       "      <td>837</td>\n",
       "      <td>837</td>\n",
       "      <td>837</td>\n",
       "      <td>837</td>\n",
       "      <td>837</td>\n",
       "      <td>837</td>\n",
       "      <td>750</td>\n",
       "    </tr>\n",
       "    <tr>\n",
       "      <th>3</th>\n",
       "      <td>4</td>\n",
       "      <td>2023/3/1 4:31</td>\n",
       "      <td>24.108999</td>\n",
       "      <td>23.974001</td>\n",
       "      <td>28.783001</td>\n",
       "      <td>25.114000</td>\n",
       "      <td>27.047001</td>\n",
       "      <td>4.354</td>\n",
       "      <td>21.857</td>\n",
       "      <td>24.337999</td>\n",
       "      <td>...</td>\n",
       "      <td>837</td>\n",
       "      <td>837</td>\n",
       "      <td>837</td>\n",
       "      <td>837</td>\n",
       "      <td>837</td>\n",
       "      <td>837</td>\n",
       "      <td>837</td>\n",
       "      <td>837</td>\n",
       "      <td>837</td>\n",
       "      <td>750</td>\n",
       "    </tr>\n",
       "    <tr>\n",
       "      <th>4</th>\n",
       "      <td>5</td>\n",
       "      <td>2023/3/1 4:36</td>\n",
       "      <td>24.350000</td>\n",
       "      <td>24.215000</td>\n",
       "      <td>29.146999</td>\n",
       "      <td>25.416000</td>\n",
       "      <td>25.416000</td>\n",
       "      <td>4.377</td>\n",
       "      <td>21.900</td>\n",
       "      <td>24.444000</td>\n",
       "      <td>...</td>\n",
       "      <td>837</td>\n",
       "      <td>837</td>\n",
       "      <td>837</td>\n",
       "      <td>837</td>\n",
       "      <td>837</td>\n",
       "      <td>837</td>\n",
       "      <td>837</td>\n",
       "      <td>837</td>\n",
       "      <td>837</td>\n",
       "      <td>750</td>\n",
       "    </tr>\n",
       "  </tbody>\n",
       "</table>\n",
       "<p>5 rows × 53 columns</p>\n",
       "</div>"
      ],
      "text/plain": [
       "   序号             时间        流量1        流量2        流量3        流量4        流量5  \\\n",
       "0   1  2023/3/1 4:15  24.222000  24.070000  28.889000  25.264999  26.827999   \n",
       "1   2  2023/3/1 4:20  24.138000  23.974001  28.798000  25.517000  27.108999   \n",
       "2   3  2023/3/1 4:26  24.152000  24.006001  28.827999  25.114000  26.719999   \n",
       "3   4  2023/3/1 4:31  24.108999  23.974001  28.783001  25.114000  27.047001   \n",
       "4   5  2023/3/1 4:36  24.350000  24.215000  29.146999  25.416000  25.416000   \n",
       "\n",
       "     流量6     流量7        流量8  ...  下部温度设定8  下部温度设定9  下部温度设定10  下部温度设定11  \\\n",
       "0  4.354  21.784  24.323000  ...      837      837       837       837   \n",
       "1  4.377  21.886  24.384001  ...      837      837       837       837   \n",
       "2  4.293  21.611  24.099001  ...      837      837       837       837   \n",
       "3  4.354  21.857  24.337999  ...      837      837       837       837   \n",
       "4  4.377  21.900  24.444000  ...      837      837       837       837   \n",
       "\n",
       "   下部温度设定12  下部温度设定13  下部温度设定14  下部温度设定15  下部温度设定16  下部温度设定17  \n",
       "0       837       837       837       837       837       750  \n",
       "1       837       837       837       837       837       750  \n",
       "2       837       837       837       837       837       750  \n",
       "3       837       837       837       837       837       750  \n",
       "4       837       837       837       837       837       750  \n",
       "\n",
       "[5 rows x 53 columns]"
      ]
     },
     "execution_count": 5,
     "metadata": {},
     "output_type": "execute_result"
    }
   ],
   "source": [
    "test_dataset.head()"
   ]
  },
  {
   "cell_type": "code",
   "execution_count": 6,
   "metadata": {},
   "outputs": [
    {
     "data": {
      "text/plain": [
       "Index(['序号', '时间', '流量1', '流量2', '流量3', '流量4', '流量5', '流量6', '流量7', '流量8',\n",
       "       '流量9', '流量10', '流量11', '流量12', '流量13', '流量14', '流量15', '流量16', '流量17',\n",
       "       '上部温度设定1', '上部温度设定2', '上部温度设定3', '上部温度设定4', '上部温度设定5', '上部温度设定6',\n",
       "       '上部温度设定7', '上部温度设定8', '上部温度设定9', '上部温度设定10', '上部温度设定11', '上部温度设定12',\n",
       "       '上部温度设定13', '上部温度设定14', '上部温度设定15', '上部温度设定16', '上部温度设定17', '下部温度设定1',\n",
       "       '下部温度设定2', '下部温度设定3', '下部温度设定4', '下部温度设定5', '下部温度设定6', '下部温度设定7',\n",
       "       '下部温度设定8', '下部温度设定9', '下部温度设定10', '下部温度设定11', '下部温度设定12', '下部温度设定13',\n",
       "       '下部温度设定14', '下部温度设定15', '下部温度设定16', '下部温度设定17'],\n",
       "      dtype='object')"
      ]
     },
     "execution_count": 6,
     "metadata": {},
     "output_type": "execute_result"
    }
   ],
   "source": [
    "test_dataset.columns"
   ]
  },
  {
   "cell_type": "code",
   "execution_count": 7,
   "metadata": {},
   "outputs": [
    {
     "data": {
      "text/html": [
       "<div>\n",
       "<style scoped>\n",
       "    .dataframe tbody tr th:only-of-type {\n",
       "        vertical-align: middle;\n",
       "    }\n",
       "\n",
       "    .dataframe tbody tr th {\n",
       "        vertical-align: top;\n",
       "    }\n",
       "\n",
       "    .dataframe thead th {\n",
       "        text-align: right;\n",
       "    }\n",
       "</style>\n",
       "<table border=\"1\" class=\"dataframe\">\n",
       "  <thead>\n",
       "    <tr style=\"text-align: right;\">\n",
       "      <th></th>\n",
       "      <th>序号</th>\n",
       "    </tr>\n",
       "  </thead>\n",
       "  <tbody>\n",
       "    <tr>\n",
       "      <th>0</th>\n",
       "      <td>1</td>\n",
       "    </tr>\n",
       "    <tr>\n",
       "      <th>1</th>\n",
       "      <td>2</td>\n",
       "    </tr>\n",
       "    <tr>\n",
       "      <th>2</th>\n",
       "      <td>3</td>\n",
       "    </tr>\n",
       "    <tr>\n",
       "      <th>3</th>\n",
       "      <td>4</td>\n",
       "    </tr>\n",
       "    <tr>\n",
       "      <th>4</th>\n",
       "      <td>5</td>\n",
       "    </tr>\n",
       "  </tbody>\n",
       "</table>\n",
       "</div>"
      ],
      "text/plain": [
       "   序号\n",
       "0   1\n",
       "1   2\n",
       "2   3\n",
       "3   4\n",
       "4   5"
      ]
     },
     "execution_count": 7,
     "metadata": {},
     "output_type": "execute_result"
    }
   ],
   "source": [
    "submit.head()"
   ]
  },
  {
   "cell_type": "markdown",
   "metadata": {},
   "source": [
    "## 设定模型训练参数"
   ]
  },
  {
   "cell_type": "code",
   "execution_count": 8,
   "metadata": {},
   "outputs": [],
   "source": [
    "# 参数设置\n",
    "pred_labels = list(train_dataset.columns[-34:]) # 需要预测的标签。\n",
    "train_set, valid_set = train_test_split(train_dataset, test_size=0.2) # 拆分数据集。\n",
    "\n",
    "# 设定 LightGBM 训练参，查阅参数意义：https://lightgbm.readthedocs.io/en/latest/Parameters.html\n",
    "lgb_params = {\n",
    "        'boosting_type': 'gbdt',\n",
    "        'objective': 'regression',\n",
    "        'metric': 'mae',\n",
    "        'min_child_weight': 5,\n",
    "        'num_leaves': 2 ** 5,\n",
    "        'lambda_l2': 10,\n",
    "        'feature_fraction': 0.8,\n",
    "        'bagging_fraction': 0.8,\n",
    "        'bagging_freq': 4,\n",
    "        'learning_rate': 0.05,\n",
    "        'seed': 2023,\n",
    "        'nthread' : 16,\n",
    "        'verbose' : -1,\n",
    "    }\n",
    "\n",
    "no_info = lgb.callback.log_evaluation(period=-1) # 禁用训练日志输出。"
   ]
  },
  {
   "cell_type": "code",
   "execution_count": 9,
   "metadata": {},
   "outputs": [
    {
     "data": {
      "text/plain": [
       "['上部温度1',\n",
       " '上部温度2',\n",
       " '上部温度3',\n",
       " '上部温度4',\n",
       " '上部温度5',\n",
       " '上部温度6',\n",
       " '上部温度7',\n",
       " '上部温度8',\n",
       " '上部温度9',\n",
       " '上部温度10',\n",
       " '上部温度11',\n",
       " '上部温度12',\n",
       " '上部温度13',\n",
       " '上部温度14',\n",
       " '上部温度15',\n",
       " '上部温度16',\n",
       " '上部温度17',\n",
       " '下部温度1',\n",
       " '下部温度2',\n",
       " '下部温度3',\n",
       " '下部温度4',\n",
       " '下部温度5',\n",
       " '下部温度6',\n",
       " '下部温度7',\n",
       " '下部温度8',\n",
       " '下部温度9',\n",
       " '下部温度10',\n",
       " '下部温度11',\n",
       " '下部温度12',\n",
       " '下部温度13',\n",
       " '下部温度14',\n",
       " '下部温度15',\n",
       " '下部温度16',\n",
       " '下部温度17']"
      ]
     },
     "execution_count": 9,
     "metadata": {},
     "output_type": "execute_result"
    }
   ],
   "source": [
    "pred_labels"
   ]
  },
  {
   "cell_type": "markdown",
   "metadata": {},
   "source": [
    "## 提取时间特征"
   ]
  },
  {
   "cell_type": "code",
   "execution_count": 10,
   "metadata": {},
   "outputs": [
    {
     "data": {
      "text/html": [
       "<div>\n",
       "<style scoped>\n",
       "    .dataframe tbody tr th:only-of-type {\n",
       "        vertical-align: middle;\n",
       "    }\n",
       "\n",
       "    .dataframe tbody tr th {\n",
       "        vertical-align: top;\n",
       "    }\n",
       "\n",
       "    .dataframe thead th {\n",
       "        text-align: right;\n",
       "    }\n",
       "</style>\n",
       "<table border=\"1\" class=\"dataframe\">\n",
       "  <thead>\n",
       "    <tr style=\"text-align: right;\">\n",
       "      <th></th>\n",
       "      <th>流量1</th>\n",
       "      <th>流量2</th>\n",
       "      <th>流量3</th>\n",
       "      <th>流量4</th>\n",
       "      <th>流量5</th>\n",
       "      <th>流量6</th>\n",
       "      <th>流量7</th>\n",
       "      <th>流量8</th>\n",
       "      <th>流量9</th>\n",
       "      <th>流量10</th>\n",
       "      <th>...</th>\n",
       "      <th>下部温度设定16</th>\n",
       "      <th>下部温度设定17</th>\n",
       "      <th>month</th>\n",
       "      <th>day</th>\n",
       "      <th>hour</th>\n",
       "      <th>minute</th>\n",
       "      <th>weekofyear</th>\n",
       "      <th>dayofyear</th>\n",
       "      <th>dayofweek</th>\n",
       "      <th>is_weekend</th>\n",
       "    </tr>\n",
       "  </thead>\n",
       "  <tbody>\n",
       "    <tr>\n",
       "      <th>0</th>\n",
       "      <td>24.222000</td>\n",
       "      <td>24.070000</td>\n",
       "      <td>28.889000</td>\n",
       "      <td>25.264999</td>\n",
       "      <td>26.827999</td>\n",
       "      <td>4.354</td>\n",
       "      <td>21.784</td>\n",
       "      <td>24.323000</td>\n",
       "      <td>16.721001</td>\n",
       "      <td>18.652000</td>\n",
       "      <td>...</td>\n",
       "      <td>837</td>\n",
       "      <td>750</td>\n",
       "      <td>3</td>\n",
       "      <td>1</td>\n",
       "      <td>4</td>\n",
       "      <td>15</td>\n",
       "      <td>9</td>\n",
       "      <td>60</td>\n",
       "      <td>2</td>\n",
       "      <td>0</td>\n",
       "    </tr>\n",
       "    <tr>\n",
       "      <th>1</th>\n",
       "      <td>24.138000</td>\n",
       "      <td>23.974001</td>\n",
       "      <td>28.798000</td>\n",
       "      <td>25.517000</td>\n",
       "      <td>27.108999</td>\n",
       "      <td>4.377</td>\n",
       "      <td>21.886</td>\n",
       "      <td>24.384001</td>\n",
       "      <td>16.709999</td>\n",
       "      <td>18.600000</td>\n",
       "      <td>...</td>\n",
       "      <td>837</td>\n",
       "      <td>750</td>\n",
       "      <td>3</td>\n",
       "      <td>1</td>\n",
       "      <td>4</td>\n",
       "      <td>20</td>\n",
       "      <td>9</td>\n",
       "      <td>60</td>\n",
       "      <td>2</td>\n",
       "      <td>0</td>\n",
       "    </tr>\n",
       "    <tr>\n",
       "      <th>2</th>\n",
       "      <td>24.152000</td>\n",
       "      <td>24.006001</td>\n",
       "      <td>28.827999</td>\n",
       "      <td>25.114000</td>\n",
       "      <td>26.719999</td>\n",
       "      <td>4.293</td>\n",
       "      <td>21.611</td>\n",
       "      <td>24.099001</td>\n",
       "      <td>16.591999</td>\n",
       "      <td>18.471001</td>\n",
       "      <td>...</td>\n",
       "      <td>837</td>\n",
       "      <td>750</td>\n",
       "      <td>3</td>\n",
       "      <td>1</td>\n",
       "      <td>4</td>\n",
       "      <td>26</td>\n",
       "      <td>9</td>\n",
       "      <td>60</td>\n",
       "      <td>2</td>\n",
       "      <td>0</td>\n",
       "    </tr>\n",
       "    <tr>\n",
       "      <th>3</th>\n",
       "      <td>24.108999</td>\n",
       "      <td>23.974001</td>\n",
       "      <td>28.783001</td>\n",
       "      <td>25.114000</td>\n",
       "      <td>27.047001</td>\n",
       "      <td>4.354</td>\n",
       "      <td>21.857</td>\n",
       "      <td>24.337999</td>\n",
       "      <td>16.677999</td>\n",
       "      <td>18.561001</td>\n",
       "      <td>...</td>\n",
       "      <td>837</td>\n",
       "      <td>750</td>\n",
       "      <td>3</td>\n",
       "      <td>1</td>\n",
       "      <td>4</td>\n",
       "      <td>31</td>\n",
       "      <td>9</td>\n",
       "      <td>60</td>\n",
       "      <td>2</td>\n",
       "      <td>0</td>\n",
       "    </tr>\n",
       "    <tr>\n",
       "      <th>4</th>\n",
       "      <td>24.350000</td>\n",
       "      <td>24.215000</td>\n",
       "      <td>29.146999</td>\n",
       "      <td>25.416000</td>\n",
       "      <td>25.416000</td>\n",
       "      <td>4.377</td>\n",
       "      <td>21.900</td>\n",
       "      <td>24.444000</td>\n",
       "      <td>16.775999</td>\n",
       "      <td>18.704000</td>\n",
       "      <td>...</td>\n",
       "      <td>837</td>\n",
       "      <td>750</td>\n",
       "      <td>3</td>\n",
       "      <td>1</td>\n",
       "      <td>4</td>\n",
       "      <td>36</td>\n",
       "      <td>9</td>\n",
       "      <td>60</td>\n",
       "      <td>2</td>\n",
       "      <td>0</td>\n",
       "    </tr>\n",
       "  </tbody>\n",
       "</table>\n",
       "<p>5 rows × 59 columns</p>\n",
       "</div>"
      ],
      "text/plain": [
       "         流量1        流量2        流量3        流量4        流量5    流量6     流量7  \\\n",
       "0  24.222000  24.070000  28.889000  25.264999  26.827999  4.354  21.784   \n",
       "1  24.138000  23.974001  28.798000  25.517000  27.108999  4.377  21.886   \n",
       "2  24.152000  24.006001  28.827999  25.114000  26.719999  4.293  21.611   \n",
       "3  24.108999  23.974001  28.783001  25.114000  27.047001  4.354  21.857   \n",
       "4  24.350000  24.215000  29.146999  25.416000  25.416000  4.377  21.900   \n",
       "\n",
       "         流量8        流量9       流量10  ...  下部温度设定16  下部温度设定17  month  day  hour  \\\n",
       "0  24.323000  16.721001  18.652000  ...       837       750      3    1     4   \n",
       "1  24.384001  16.709999  18.600000  ...       837       750      3    1     4   \n",
       "2  24.099001  16.591999  18.471001  ...       837       750      3    1     4   \n",
       "3  24.337999  16.677999  18.561001  ...       837       750      3    1     4   \n",
       "4  24.444000  16.775999  18.704000  ...       837       750      3    1     4   \n",
       "\n",
       "   minute  weekofyear  dayofyear  dayofweek  is_weekend  \n",
       "0      15           9         60          2           0  \n",
       "1      20           9         60          2           0  \n",
       "2      26           9         60          2           0  \n",
       "3      31           9         60          2           0  \n",
       "4      36           9         60          2           0  \n",
       "\n",
       "[5 rows x 59 columns]"
      ]
     },
     "execution_count": 10,
     "metadata": {},
     "output_type": "execute_result"
    }
   ],
   "source": [
    "# 时间特征函数\n",
    "def time_feature(data: pd.DataFrame, pred_labels: list=None) -> pd.DataFrame:\n",
    "    \"\"\"提取数据中的时间特征。\n",
    "\n",
    "    输入: \n",
    "        data: Pandas.DataFrame\n",
    "            需要提取时间特征的数据。\n",
    "\n",
    "        pred_labels: list, 默认值: None\n",
    "            需要预测的标签的列表。如果是测试集，不需要填入。\n",
    "    \n",
    "    输出: data: Pandas.DataFrame\n",
    "            提取时间特征后的数据。\n",
    "    \"\"\"\n",
    "    \n",
    "    data = data.copy() # 复制数据，避免后续影响原始数据。\n",
    "    data = data.drop(columns=[\"序号\"]) # 去掉”序号“特征。\n",
    "    \n",
    "    data[\"时间\"] = pd.to_datetime(data[\"时间\"]) # 将”时间“特征的文本内容转换为 Pandas 可处理的格式。\n",
    "    # print(data['时间'])\n",
    "    data[\"month\"] = data[\"时间\"].dt.month # 添加新特征“month”，代表”当前月份“。\n",
    "    data[\"day\"] = data[\"时间\"].dt.day # 添加新特征“day”，代表”当前日期“。\n",
    "    data[\"hour\"] = data[\"时间\"].dt.hour # 添加新特征“hour”，代表”当前小时“。\n",
    "    data[\"minute\"] = data[\"时间\"].dt.minute # 添加新特征“minute”，代表”当前分钟“。\n",
    "    data[\"weekofyear\"] = data[\"时间\"].dt.isocalendar().week.astype(int) # 添加新特征“weekofyear”，代表”当年第几周“，并转换成 int，否则 LightGBM 无法处理。\n",
    "    data[\"dayofyear\"] = data[\"时间\"].dt.dayofyear # 添加新特征“dayofyear”，代表”当年第几日“。\n",
    "    data[\"dayofweek\"] = data[\"时间\"].dt.dayofweek # 添加新特征“dayofweek”，代表”当周第几日“。\n",
    "    data[\"is_weekend\"] = data[\"时间\"].dt.dayofweek // 6 # 添加新特征“is_weekend”，代表”是否是周末“，1 代表是周末，0 代表不是周末。\n",
    "\n",
    "    data = data.drop(columns=[\"时间\"]) # LightGBM 无法处理这个特征，它已体现在其他特征中，故丢弃。\n",
    "\n",
    "    if pred_labels: # 如果提供了 pred_labels 参数，则执行该代码块。\n",
    "        data = data.drop(columns=[*pred_labels]) # 去掉所有待预测的标签。\n",
    "    \n",
    "    return data # 返回最后处理的数据。\n",
    "\n",
    "test_features = time_feature(test_dataset) # 处理测试集的时间特征，无需 pred_labels。\n",
    "test_features.head(5)"
   ]
  },
  {
   "cell_type": "markdown",
   "metadata": {},
   "source": [
    "## 模型训练与预测"
   ]
  },
  {
   "cell_type": "code",
   "execution_count": 11,
   "metadata": {},
   "outputs": [
    {
     "name": "stderr",
     "output_type": "stream",
     "text": [
      "  0%|          | 0/34 [00:00<?, ?it/s]"
     ]
    },
    {
     "name": "stdout",
     "output_type": "stream",
     "text": [
      "当前的pred_label是： 上部温度1\n"
     ]
    },
    {
     "name": "stderr",
     "output_type": "stream",
     "text": [
      "  3%|▎         | 1/34 [00:00<00:16,  2.02it/s]"
     ]
    },
    {
     "name": "stdout",
     "output_type": "stream",
     "text": [
      "当前的pred_label是： 上部温度2\n"
     ]
    },
    {
     "name": "stderr",
     "output_type": "stream",
     "text": [
      "  6%|▌         | 2/34 [00:01<00:16,  1.99it/s]"
     ]
    },
    {
     "name": "stdout",
     "output_type": "stream",
     "text": [
      "当前的pred_label是： 上部温度3\n"
     ]
    },
    {
     "name": "stderr",
     "output_type": "stream",
     "text": [
      "  9%|▉         | 3/34 [00:01<00:16,  1.87it/s]"
     ]
    },
    {
     "name": "stdout",
     "output_type": "stream",
     "text": [
      "当前的pred_label是： 上部温度4\n"
     ]
    },
    {
     "name": "stderr",
     "output_type": "stream",
     "text": [
      " 12%|█▏        | 4/34 [00:02<00:15,  1.90it/s]"
     ]
    },
    {
     "name": "stdout",
     "output_type": "stream",
     "text": [
      "当前的pred_label是： 上部温度5\n"
     ]
    },
    {
     "name": "stderr",
     "output_type": "stream",
     "text": [
      " 15%|█▍        | 5/34 [00:02<00:15,  1.88it/s]"
     ]
    },
    {
     "name": "stdout",
     "output_type": "stream",
     "text": [
      "当前的pred_label是： 上部温度6\n"
     ]
    },
    {
     "name": "stderr",
     "output_type": "stream",
     "text": [
      " 18%|█▊        | 6/34 [00:03<00:14,  1.89it/s]"
     ]
    },
    {
     "name": "stdout",
     "output_type": "stream",
     "text": [
      "当前的pred_label是： 上部温度7\n"
     ]
    },
    {
     "name": "stderr",
     "output_type": "stream",
     "text": [
      " 21%|██        | 7/34 [00:03<00:14,  1.92it/s]"
     ]
    },
    {
     "name": "stdout",
     "output_type": "stream",
     "text": [
      "当前的pred_label是： 上部温度8\n"
     ]
    },
    {
     "name": "stderr",
     "output_type": "stream",
     "text": [
      " 24%|██▎       | 8/34 [00:04<00:14,  1.85it/s]"
     ]
    },
    {
     "name": "stdout",
     "output_type": "stream",
     "text": [
      "当前的pred_label是： 上部温度9\n"
     ]
    },
    {
     "name": "stderr",
     "output_type": "stream",
     "text": [
      " 26%|██▋       | 9/34 [00:04<00:13,  1.88it/s]"
     ]
    },
    {
     "name": "stdout",
     "output_type": "stream",
     "text": [
      "当前的pred_label是： 上部温度10\n"
     ]
    },
    {
     "name": "stderr",
     "output_type": "stream",
     "text": [
      " 29%|██▉       | 10/34 [00:05<00:12,  1.93it/s]"
     ]
    },
    {
     "name": "stdout",
     "output_type": "stream",
     "text": [
      "当前的pred_label是： 上部温度11\n"
     ]
    },
    {
     "name": "stderr",
     "output_type": "stream",
     "text": [
      " 32%|███▏      | 11/34 [00:05<00:11,  1.92it/s]"
     ]
    },
    {
     "name": "stdout",
     "output_type": "stream",
     "text": [
      "当前的pred_label是： 上部温度12\n"
     ]
    },
    {
     "name": "stderr",
     "output_type": "stream",
     "text": [
      " 35%|███▌      | 12/34 [00:06<00:11,  1.86it/s]"
     ]
    },
    {
     "name": "stdout",
     "output_type": "stream",
     "text": [
      "当前的pred_label是： 上部温度13\n"
     ]
    },
    {
     "name": "stderr",
     "output_type": "stream",
     "text": [
      " 38%|███▊      | 13/34 [00:06<00:11,  1.91it/s]"
     ]
    },
    {
     "name": "stdout",
     "output_type": "stream",
     "text": [
      "当前的pred_label是： 上部温度14\n"
     ]
    },
    {
     "name": "stderr",
     "output_type": "stream",
     "text": [
      " 41%|████      | 14/34 [00:07<00:10,  1.94it/s]"
     ]
    },
    {
     "name": "stdout",
     "output_type": "stream",
     "text": [
      "当前的pred_label是： 上部温度15\n"
     ]
    },
    {
     "name": "stderr",
     "output_type": "stream",
     "text": [
      " 44%|████▍     | 15/34 [00:07<00:09,  1.99it/s]"
     ]
    },
    {
     "name": "stdout",
     "output_type": "stream",
     "text": [
      "当前的pred_label是： 上部温度16\n"
     ]
    },
    {
     "name": "stderr",
     "output_type": "stream",
     "text": [
      " 47%|████▋     | 16/34 [00:08<00:08,  2.02it/s]"
     ]
    },
    {
     "name": "stdout",
     "output_type": "stream",
     "text": [
      "当前的pred_label是： 上部温度17\n"
     ]
    },
    {
     "name": "stderr",
     "output_type": "stream",
     "text": [
      " 50%|█████     | 17/34 [00:08<00:08,  2.02it/s]"
     ]
    },
    {
     "name": "stdout",
     "output_type": "stream",
     "text": [
      "当前的pred_label是： 下部温度1\n"
     ]
    },
    {
     "name": "stderr",
     "output_type": "stream",
     "text": [
      " 53%|█████▎    | 18/34 [00:09<00:07,  2.02it/s]"
     ]
    },
    {
     "name": "stdout",
     "output_type": "stream",
     "text": [
      "当前的pred_label是： 下部温度2\n"
     ]
    },
    {
     "name": "stderr",
     "output_type": "stream",
     "text": [
      " 56%|█████▌    | 19/34 [00:09<00:07,  1.97it/s]"
     ]
    },
    {
     "name": "stdout",
     "output_type": "stream",
     "text": [
      "当前的pred_label是： 下部温度3\n"
     ]
    },
    {
     "name": "stderr",
     "output_type": "stream",
     "text": [
      " 59%|█████▉    | 20/34 [00:10<00:06,  2.04it/s]"
     ]
    },
    {
     "name": "stdout",
     "output_type": "stream",
     "text": [
      "当前的pred_label是： 下部温度4\n"
     ]
    },
    {
     "name": "stderr",
     "output_type": "stream",
     "text": [
      " 62%|██████▏   | 21/34 [00:10<00:06,  2.03it/s]"
     ]
    },
    {
     "name": "stdout",
     "output_type": "stream",
     "text": [
      "当前的pred_label是： 下部温度5\n"
     ]
    },
    {
     "name": "stderr",
     "output_type": "stream",
     "text": [
      " 65%|██████▍   | 22/34 [00:11<00:05,  2.02it/s]"
     ]
    },
    {
     "name": "stdout",
     "output_type": "stream",
     "text": [
      "当前的pred_label是： 下部温度6\n"
     ]
    },
    {
     "name": "stderr",
     "output_type": "stream",
     "text": [
      " 68%|██████▊   | 23/34 [00:11<00:05,  2.04it/s]"
     ]
    },
    {
     "name": "stdout",
     "output_type": "stream",
     "text": [
      "当前的pred_label是： 下部温度7\n"
     ]
    },
    {
     "name": "stderr",
     "output_type": "stream",
     "text": [
      " 71%|███████   | 24/34 [00:12<00:04,  2.00it/s]"
     ]
    },
    {
     "name": "stdout",
     "output_type": "stream",
     "text": [
      "当前的pred_label是： 下部温度8\n"
     ]
    },
    {
     "name": "stderr",
     "output_type": "stream",
     "text": [
      " 74%|███████▎  | 25/34 [00:12<00:04,  2.00it/s]"
     ]
    },
    {
     "name": "stdout",
     "output_type": "stream",
     "text": [
      "当前的pred_label是： 下部温度9\n"
     ]
    },
    {
     "name": "stderr",
     "output_type": "stream",
     "text": [
      " 76%|███████▋  | 26/34 [00:13<00:04,  1.98it/s]"
     ]
    },
    {
     "name": "stdout",
     "output_type": "stream",
     "text": [
      "当前的pred_label是： 下部温度10\n"
     ]
    },
    {
     "name": "stderr",
     "output_type": "stream",
     "text": [
      " 79%|███████▉  | 27/34 [00:13<00:03,  1.92it/s]"
     ]
    },
    {
     "name": "stdout",
     "output_type": "stream",
     "text": [
      "当前的pred_label是： 下部温度11\n"
     ]
    },
    {
     "name": "stderr",
     "output_type": "stream",
     "text": [
      " 82%|████████▏ | 28/34 [00:14<00:03,  1.95it/s]"
     ]
    },
    {
     "name": "stdout",
     "output_type": "stream",
     "text": [
      "当前的pred_label是： 下部温度12\n"
     ]
    },
    {
     "name": "stderr",
     "output_type": "stream",
     "text": [
      " 85%|████████▌ | 29/34 [00:14<00:02,  1.99it/s]"
     ]
    },
    {
     "name": "stdout",
     "output_type": "stream",
     "text": [
      "当前的pred_label是： 下部温度13\n"
     ]
    },
    {
     "name": "stderr",
     "output_type": "stream",
     "text": [
      " 88%|████████▊ | 30/34 [00:15<00:01,  2.03it/s]"
     ]
    },
    {
     "name": "stdout",
     "output_type": "stream",
     "text": [
      "当前的pred_label是： 下部温度14\n"
     ]
    },
    {
     "name": "stderr",
     "output_type": "stream",
     "text": [
      " 91%|█████████ | 31/34 [00:15<00:01,  2.03it/s]"
     ]
    },
    {
     "name": "stdout",
     "output_type": "stream",
     "text": [
      "当前的pred_label是： 下部温度15\n"
     ]
    },
    {
     "name": "stderr",
     "output_type": "stream",
     "text": [
      " 94%|█████████▍| 32/34 [00:16<00:01,  1.94it/s]"
     ]
    },
    {
     "name": "stdout",
     "output_type": "stream",
     "text": [
      "当前的pred_label是： 下部温度16\n"
     ]
    },
    {
     "name": "stderr",
     "output_type": "stream",
     "text": [
      " 97%|█████████▋| 33/34 [00:16<00:00,  1.97it/s]"
     ]
    },
    {
     "name": "stdout",
     "output_type": "stream",
     "text": [
      "当前的pred_label是： 下部温度17\n"
     ]
    },
    {
     "name": "stderr",
     "output_type": "stream",
     "text": [
      "100%|██████████| 34/34 [00:17<00:00,  1.97it/s]\n"
     ]
    }
   ],
   "source": [
    "import matplotlib.pyplot as plt\n",
    "\n",
    "# 创建一个空列表来保存每次迭代的训练损失\n",
    "training_loss = []\n",
    "\n",
    "# 创建一个回调函数来记录每次迭代的训练损失\n",
    "def record_loss(env):\n",
    "    training_loss.append(env.evaluation_result_list[0][2])\n",
    "\n",
    "# 从所有待预测特征中依次取出每类的标签进行训练与预测。\n",
    "for pred_label in tqdm(pred_labels):\n",
    "    print(\"当前的pred_label是：\", pred_label)\n",
    "    train_features = time_feature(train_dataset, pred_labels=pred_labels) # 处理训练集的时间特征。\n",
    "    train_labels = train_dataset[pred_label] # 训练集的对应类别的标签数据。\n",
    "\n",
    "    train_data = lgb.Dataset(train_features, label=train_labels) # 将训练集转换为 LightGBM 可处理的类型。\n",
    "\n",
    "    valid_features = time_feature(valid_set, pred_labels=pred_labels) # 处理验证集的时间特征。\n",
    "    # valid_features = enhancement(valid_features_raw)\n",
    "    valid_labels = valid_set[pred_label] # 验证集的标签数据。\n",
    "    # print(\"当前的valid_labels是：\", valid_labels)\n",
    "    valid_data = lgb.Dataset(valid_features, label=valid_labels) # 将验证集转换为 LightGBM 可处理的类型。\n",
    "\n",
    "    # 训练模型，参数依次为：导入模型设定参数、导入训练集、设定模型迭代次数（200）、导入验证集、禁止输出日志\n",
    "    model = lgb.train(lgb_params, train_data, 200, valid_sets=valid_data)\n",
    "    \n",
    "    valid_pred = model.predict(valid_features, num_iteration=model.best_iteration) # 选择效果最好的模型进行验证集预测。\n",
    "    test_pred = model.predict(test_features, num_iteration=model.best_iteration) # 选择效果最好的模型进行测试集预测。\n",
    "    MAE_score = mean_absolute_error(valid_pred, valid_labels) # 计算验证集预测数据与真实数据的 MAE。\n",
    "    MAE_scores[pred_label] = MAE_score # 将对应标签的 MAE 值 存入评分项中。\n",
    "\n",
    "    submit[pred_label] = test_pred # 将测试集预测数据存入最终提交数据中。\n",
    "    # 创建一个图表来显示训练损失随迭代次数的变化\n",
    "    # plt.plot(training_loss)\n",
    "    # plt.xlabel('Iteration')\n",
    "    # plt.ylabel('Training Loss')\n",
    "    # plt.show()\n"
   ]
  },
  {
   "cell_type": "markdown",
   "metadata": {},
   "source": [
    "## 保存结果"
   ]
  },
  {
   "cell_type": "code",
   "execution_count": 12,
   "metadata": {},
   "outputs": [
    {
     "name": "stdout",
     "output_type": "stream",
     "text": [
      "{'上部温度1': 5.040988298006909, '上部温度2': 4.652432987059698, '上部温度3': 3.2484328268791733, '上部温度4': 1.9507754913465625, '上部温度5': 2.4572380717209996, '上部温度6': 2.074353987517434, '上部温度7': 1.389370177963195, '上部温度8': 0.11827481019292359, '上部温度9': 0.048430293848361096, '上部温度10': 0.04478503801364404, '上部温度11': 0.060027147167978426, '上部温度12': 0.07481352527710482, '上部温度13': 0.06406748829523433, '上部温度14': 0.09462945258791236, '上部温度15': 0.17201355792732875, '上部温度16': 0.24727032766737067, '上部温度17': 0.8023878182592751, '下部温度1': 2.937577001772735, '下部温度2': 1.2501543112624107, '下部温度3': 0.5500564107613642, '下部温度4': 0.27037337091720565, '下部温度5': 0.8984951556591149, '下部温度6': 0.543050607816922, '下部温度7': 0.2138228780966383, '下部温度8': 0.050087959904197316, '下部温度9': 4.595571421605266, '下部温度10': 0.04739709682448464, '下部温度11': 0.08336675401568777, '下部温度12': 0.09402325673064997, '下部温度13': 0.07383412085542158, '下部温度14': 0.07959783779164084, '下部温度15': 0.1360256457867532, '下部温度16': 0.1948130259736614, '下部温度17': 0.24917081503427857}\n"
     ]
    }
   ],
   "source": [
    "submit.to_csv('./data/submit_result.csv', index=False) # 保存最后的预测结果到 submit_result.csv\n",
    "print(MAE_scores) # 查看各项的 MAE 值。"
   ]
  },
  {
   "cell_type": "markdown",
   "metadata": {},
   "source": [
    "# 一些自己的修改"
   ]
  },
  {
   "cell_type": "markdown",
   "metadata": {},
   "source": [
    "## 交叉验证"
   ]
  },
  {
   "cell_type": "code",
   "execution_count": 13,
   "metadata": {},
   "outputs": [],
   "source": [
    "# 参数设置\n",
    "pred_labels = list(train_dataset.columns[-34:]) # 需要预测的标签。\n",
    "\n",
    "# 设定 LightGBM 训练参，查阅参数意义：https://lightgbm.readthedocs.io/en/latest/Parameters.html\n",
    "lgb_params = {\n",
    "        'boosting_type': 'gbdt',\n",
    "        'objective': 'regression',\n",
    "        'metric': 'mae',\n",
    "        'min_child_weight': 5,\n",
    "        'num_leaves': 2 ** 5,\n",
    "        'lambda_l2': 10,\n",
    "        'feature_fraction': 0.8,\n",
    "        'bagging_fraction': 0.8,\n",
    "        'bagging_freq': 4,\n",
    "        'learning_rate': 0.05,\n",
    "        'seed': 2023,\n",
    "        'nthread' : 16,\n",
    "        'verbose' : -1,\n",
    "    }\n",
    "\n",
    "no_info = lgb.callback.log_evaluation(period=-1) # 禁用训练日志输出。"
   ]
  },
  {
   "cell_type": "code",
   "execution_count": 18,
   "metadata": {},
   "outputs": [
    {
     "name": "stderr",
     "output_type": "stream",
     "text": [
      "100%|██████████| 34/34 [02:06<00:00,  3.73s/it]\n"
     ]
    }
   ],
   "source": [
    "from sklearn.model_selection import KFold  \n",
    "from sklearn.model_selection import cross_val_score\n",
    "import numpy as np\n",
    "# Generate the 10-fold partitioning\n",
    "n_splits = 10 # 10-fold cross-validation\n",
    "seed = 32 # for reproducibility    \n",
    "kfold = KFold(n_splits=10, random_state=seed, shuffle=True)  \n",
    "\n",
    "\n",
    "# Initialize the minimum MAE and the best train/validation split\n",
    "min_mae = np.inf\n",
    "best_train = None\n",
    "best_valid = None\n",
    "\n",
    "# 从所有待预测特征中依次取出每类的标签进行训练与预测。\n",
    "for pred_label in tqdm(pred_labels):\n",
    "    train_features = time_feature(train_set, pred_labels=pred_labels) # 处理训练集的时间特征。\n",
    "    train_labels = train_set[pred_label] # 训练集的对应类别的标签数据。\n",
    "\n",
    "    # Perform the 10-fold cross-validation\n",
    "    for train_index, valid_index in kfold.split(train_features):\n",
    "        X_train, X_valid = train_features.iloc[train_index], train_features.iloc[valid_index]\n",
    "        y_train, y_valid = train_labels.iloc[train_index], train_labels.iloc[valid_index]\n",
    "\n",
    "        # Train the model\n",
    "        train_data = lgb.Dataset(X_train, label=y_train)\n",
    "        valid_data = lgb.Dataset(X_valid, label=y_valid)\n",
    "        model = lgb.train(lgb_params, train_data, 200, valid_sets=valid_data)\n",
    "\n",
    "        # Predict on the validation set and compute the MAE\n",
    "        valid_pred = model.predict(X_valid, num_iteration=model.best_iteration)\n",
    "        mae = mean_absolute_error(y_valid, valid_pred)\n",
    "\n",
    "        # If this MAE is smaller than the current minimum, update the minimum and save this split\n",
    "        if mae < min_mae:\n",
    "            min_mae = mae\n",
    "            best_train = (X_train, y_train)\n",
    "            best_valid = (X_valid, y_valid)\n",
    "    train_data = lgb.Dataset(best_train[0], label=best_train[1]) # 将训练集转换为 LightGBM 可处理的类型。\n",
    "    valid_data = lgb.Dataset(best_valid[0], label=best_valid[1]) # 将验证集转换为 LightGBM 可处理的类型。\n",
    "# Now, best_train and best_valid contain the training and validation splits that gave the smallest MAE\n",
    "    \n",
    "    # 训练模型，参数依次为：导入模型设定参数、导入训练集、设定模型迭代次数（200）、导入验证集、禁止输出日志\n",
    "    model = lgb.train(lgb_params, train_data, 200, valid_sets=valid_data)\n",
    "    \n",
    "    valid_pred = model.predict(best_valid[0], num_iteration=model.best_iteration) # 选择效果最好的模型进行验证集预测。\n",
    "    test_pred = model.predict(test_features, num_iteration=model.best_iteration) # 选择效果最好的模型进行测试集预测。\n",
    "    MAE_score = mean_absolute_error(valid_pred, best_valid[1]) # 计算验证集预测数据与真实数据的 MAE。\n",
    "    MAE_scores[pred_label] = MAE_score # 将对应标签的 MAE 值 存入评分项中。\n",
    "\n",
    "    submit[pred_label] = test_pred # 将测试集预测数据存入最终提交数据中。"
   ]
  },
  {
   "cell_type": "code",
   "execution_count": 19,
   "metadata": {},
   "outputs": [
    {
     "name": "stdout",
     "output_type": "stream",
     "text": [
      "{'上部温度1': 5.465754055050489, '上部温度2': 4.887864215337955, '上部温度3': 3.4207008894019673, '上部温度4': 2.1205865518411424, '上部温度5': 2.1205865518411424, '上部温度6': 2.1205865518411424, '上部温度7': 1.4807261122203512, '上部温度8': 0.12457070872398143, '上部温度9': 0.06018625401673228, '上部温度10': 0.05596058734554622, '上部温度11': 0.05596058734554622, '上部温度12': 0.05596058734554622, '上部温度13': 0.05596058734554622, '上部温度14': 0.05596058734554622, '上部温度15': 0.05596058734554622, '上部温度16': 0.05596058734554622, '上部温度17': 0.05596058734554622, '下部温度1': 0.05596058734554622, '下部温度2': 0.05596058734554622, '下部温度3': 0.05596058734554622, '下部温度4': 0.05596058734554622, '下部温度5': 0.05596058734554622, '下部温度6': 0.05596058734554622, '下部温度7': 0.05596058734554622, '下部温度8': 0.05596058734554622, '下部温度9': 0.05596058734554622, '下部温度10': 0.05596058734554622, '下部温度11': 0.05596058734554622, '下部温度12': 0.05596058734554622, '下部温度13': 0.05596058734554622, '下部温度14': 0.05596058734554622, '下部温度15': 0.05596058734554622, '下部温度16': 0.05596058734554622, '下部温度17': 0.05596058734554622}\n"
     ]
    }
   ],
   "source": [
    "print(MAE_scores)"
   ]
  }
 ],
 "metadata": {
  "kernelspec": {
   "display_name": "gpytorch",
   "language": "python",
   "name": "python3"
  },
  "language_info": {
   "codemirror_mode": {
    "name": "ipython",
    "version": 3
   },
   "file_extension": ".py",
   "mimetype": "text/x-python",
   "name": "python",
   "nbconvert_exporter": "python",
   "pygments_lexer": "ipython3",
   "version": "3.10.11"
  }
 },
 "nbformat": 4,
 "nbformat_minor": 2
}
